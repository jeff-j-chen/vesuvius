{
 "cells": [
  {
   "cell_type": "code",
   "execution_count": 3,
   "metadata": {},
   "outputs": [
    {
     "name": "stdout",
     "output_type": "stream",
     "text": [
      "Failed to download inklabel. Status code: 404\n",
      "volume loaded with shape <bound method Volume.shape of <vesuvius.volume.Volume object at 0x7ac7d00b58a0>>\n",
      "[[0.5372549  0.48627451 0.4        0.31764706 0.25882353]\n",
      " [0.45882353 0.42745098 0.38039216 0.33333333 0.29411765]\n",
      " [0.49411765 0.47843137 0.4627451  0.44313725 0.41960784]\n",
      " [0.63137255 0.60392157 0.56862745 0.54117647 0.50196078]\n",
      " [0.72941176 0.6627451  0.57647059 0.50588235 0.44313725]]\n"
     ]
    },
    {
     "ename": "KeyboardInterrupt",
     "evalue": "",
     "output_type": "error",
     "traceback": [
      "\u001b[0;31m---------------------------------------------------------------------------\u001b[0m",
      "\u001b[0;31mKeyboardInterrupt\u001b[0m                         Traceback (most recent call last)",
      "Cell \u001b[0;32mIn[3], line 19\u001b[0m\n\u001b[1;32m     16\u001b[0m             ones \u001b[38;5;241m+\u001b[39m\u001b[38;5;241m=\u001b[39m \u001b[38;5;241m1\u001b[39m\n\u001b[1;32m     17\u001b[0m     \u001b[38;5;28;01mreturn\u001b[39;00m zeros, ones\n\u001b[0;32m---> 19\u001b[0m zeros, ones \u001b[38;5;241m=\u001b[39m \u001b[43mcount_zeros_ones_iter\u001b[49m\u001b[43m(\u001b[49m\u001b[43msegment\u001b[49m\u001b[38;5;241;43m.\u001b[39;49m\u001b[43minklabel\u001b[49m\u001b[43m)\u001b[49m\n\u001b[1;32m     20\u001b[0m \u001b[38;5;28mprint\u001b[39m(\u001b[38;5;124mf\u001b[39m\u001b[38;5;124m\"\u001b[39m\u001b[38;5;124mZeros: \u001b[39m\u001b[38;5;132;01m{\u001b[39;00mzeros\u001b[38;5;132;01m}\u001b[39;00m\u001b[38;5;124m, Ones: \u001b[39m\u001b[38;5;132;01m{\u001b[39;00mones\u001b[38;5;132;01m}\u001b[39;00m\u001b[38;5;124m\"\u001b[39m)\n",
      "Cell \u001b[0;32mIn[3], line 14\u001b[0m, in \u001b[0;36mcount_zeros_ones_iter\u001b[0;34m(arr)\u001b[0m\n\u001b[1;32m     12\u001b[0m \u001b[38;5;28;01mfor\u001b[39;00m val \u001b[38;5;129;01min\u001b[39;00m it:\n\u001b[1;32m     13\u001b[0m     \u001b[38;5;28;01mif\u001b[39;00m val \u001b[38;5;241m==\u001b[39m \u001b[38;5;241m0\u001b[39m:\n\u001b[0;32m---> 14\u001b[0m         zeros \u001b[38;5;241m+\u001b[39m\u001b[38;5;241m=\u001b[39m \u001b[38;5;241m1\u001b[39m\n\u001b[1;32m     15\u001b[0m     \u001b[38;5;28;01melif\u001b[39;00m val \u001b[38;5;241m==\u001b[39m \u001b[38;5;241m1\u001b[39m:\n\u001b[1;32m     16\u001b[0m         ones \u001b[38;5;241m+\u001b[39m\u001b[38;5;241m=\u001b[39m \u001b[38;5;241m1\u001b[39m\n",
      "\u001b[0;31mKeyboardInterrupt\u001b[0m: "
     ]
    }
   ],
   "source": [
    "import vesuvius\n",
    "from vesuvius import Volume\n",
    "from matplotlib import pyplot as plt\n",
    "import numpy as np\n",
    "segment_id = 20231007101619\n",
    "segment = Volume(segment_id, normalize=True)\n",
    "print(f\"volume loaded with shape {segment.shape}\")\n",
    "print(segment[32, 5000:5005, 5000:5005])\n",
    "def count_zeros_ones_iter(arr):\n",
    "    zeros = ones = 0\n",
    "    it = np.nditer(arr, flags=['refs_ok', 'zerosize_ok'])\n",
    "    for val in it:\n",
    "        if val == 0:\n",
    "            zeros += 1\n",
    "        elif val == 1:\n",
    "            ones += 1\n",
    "    return zeros, ones\n",
    "\n",
    "zeros, ones = count_zeros_ones_iter(segment.inklabel)\n",
    "print(f\"Zeros: {zeros}, Ones: {ones}\")"
   ]
  },
  {
   "cell_type": "code",
   "execution_count": null,
   "metadata": {},
   "outputs": [
    {
     "name": "stdout",
     "output_type": "stream",
     "text": [
      "Failed to download inklabel. Status code: 404\n"
     ]
    }
   ],
   "source": [
    "import vesuvius\n",
    "from vesuvius import Volume\n",
    "from matplotlib import pyplot as plt\n",
    "import numpy as np\n",
    "segment_id = 20231007101619\n",
    "segment = Volume(segment_id, normalize=True)\n",
    "\n",
    "def count_zeros_ones(arr):\n",
    "    zeros = np.count_nonzero(arr == 0)\n",
    "    ones = np.count_nonzero(arr == 1)\n",
    "    return zeros, ones\n",
    "zeros, ones = count_zeros_ones(segment.inklabel)\n",
    "print(f\"Zeros: {zeros}, Ones: {ones}\")"
   ]
  }
 ],
 "metadata": {
  "kernelspec": {
   "display_name": ".venv",
   "language": "python",
   "name": "python3"
  },
  "language_info": {
   "codemirror_mode": {
    "name": "ipython",
    "version": 3
   },
   "file_extension": ".py",
   "mimetype": "text/x-python",
   "name": "python",
   "nbconvert_exporter": "python",
   "pygments_lexer": "ipython3",
   "version": "3.10.12"
  }
 },
 "nbformat": 4,
 "nbformat_minor": 2
}
