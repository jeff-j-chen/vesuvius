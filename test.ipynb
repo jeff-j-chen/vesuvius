{
 "cells": [
  {
   "cell_type": "code",
   "execution_count": 1,
   "metadata": {},
   "outputs": [
    {
     "name": "stdout",
     "output_type": "stream",
     "text": [
      "block 1: range 0 -> 8\n",
      "block 2: range 4 -> 12\n",
      "block 3: range 8 -> 16\n",
      "block 4: range 12 -> 20\n",
      "block 5: range 16 -> 24\n",
      "block 6: range 20 -> 28\n",
      "block 7: range 24 -> 32\n",
      "block 8: range 28 -> 36\n",
      "block 9: range 32 -> 40\n",
      "block 10: range 36 -> 44\n",
      "block 11: range 40 -> 48\n",
      "block 12: range 44 -> 52\n",
      "block 13: range 48 -> 56\n",
      "block 14: range 52 -> 60\n"
     ]
    }
   ],
   "source": [
    "D = 64\n",
    "depth = 8\n",
    "num_depth_blocks = (D - 8 + 1) // int(8 // 2)\n",
    "for block_idx in range(num_depth_blocks):\n",
    "    depth_start = block_idx * int(8 // 2)\n",
    "    depth_end = min(depth_start + 8, D)\n",
    "    print(f\"block {block_idx + 1}: range {depth_start} -> {depth_end}\")\n",
    "    if depth_start >= D or depth_end > D:\n",
    "        print(f\"Skipping depth block {block_idx + 1} due to out-of-bounds indices.\")\n",
    "        continue"
   ]
  }
 ],
 "metadata": {
  "kernelspec": {
   "display_name": ".venv",
   "language": "python",
   "name": "python3"
  },
  "language_info": {
   "codemirror_mode": {
    "name": "ipython",
    "version": 3
   },
   "file_extension": ".py",
   "mimetype": "text/x-python",
   "name": "python",
   "nbconvert_exporter": "python",
   "pygments_lexer": "ipython3",
   "version": "3.10.12"
  }
 },
 "nbformat": 4,
 "nbformat_minor": 2
}
