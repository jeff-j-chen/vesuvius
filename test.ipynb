{
 "cells": [
  {
   "cell_type": "code",
   "execution_count": 12,
   "metadata": {},
   "outputs": [],
   "source": [
    "import torch\n",
    "import torch.nn as nn\n",
    "import torch.nn.functional as F\n",
    "\n",
    "class SpatialAttention(nn.Module):\n",
    "    def __init__(self, kernel_size=7):\n",
    "        super().__init__()\n",
    "        self.conv = nn.Conv2d(2, 1, kernel_size=kernel_size, padding=kernel_size // 2)\n",
    "        self.sigmoid = nn.Sigmoid()\n",
    "\n",
    "    def forward(self, x):\n",
    "        avg_out = torch.mean(x, dim=1, keepdim=True)  # (B, 1, H, W)\n",
    "        max_out, _ = torch.max(x, dim=1, keepdim=True)  # (B, 1, H, W)\n",
    "        attn = torch.cat([avg_out, max_out], dim=1)  # (B, 2, H, W)\n",
    "        attn = self.conv(attn)  # (B, 1, H, W)\n",
    "        attn = self.sigmoid(attn)  # (B, 1, H, W)\n",
    "        return x * attn  # Apply attention\n",
    "\n",
    "\n",
    "class InkDetector(nn.Module):\n",
    "    def __init__(self):\n",
    "        super(InkDetector, self).__init__()\n",
    "        self.spatial_attention = SpatialAttention()\n",
    "\n",
    "        self.features = nn.Sequential(\n",
    "            # Depthwise conv to compress depth (D=8 → maxed out later)\n",
    "            nn.Conv3d(1, 32, kernel_size=(3, 1, 1), padding=(1, 0, 0), bias=False),  # (B, 32, 8, 32, 32)\n",
    "            nn.BatchNorm3d(32),\n",
    "            nn.ReLU(inplace=True),\n",
    "            # Depth collapsed later via max\n",
    "        )\n",
    "\n",
    "        self.conv2d_path = nn.Sequential(\n",
    "            # Starting with (B, 32, 32, 32)\n",
    "\n",
    "            # Add more conv layers with moderate channel growth\n",
    "            nn.Conv2d(32, 64, kernel_size=3, padding=1, bias=False),   # (B, 64, 32, 32)\n",
    "            nn.BatchNorm2d(64),\n",
    "            nn.ReLU(inplace=True),\n",
    "\n",
    "            nn.Conv2d(64, 64, kernel_size=3, padding=1, bias=False),   # Added conv layer for depth & nonlinearity (B, 64, 32, 32)\n",
    "            nn.BatchNorm2d(64),\n",
    "            nn.ReLU(inplace=True),\n",
    "\n",
    "            nn.MaxPool2d(kernel_size=2, stride=1),  # Overlapping pooling (B, 64, 31, 31)\n",
    "\n",
    "            nn.Conv2d(64, 96, kernel_size=3, padding=1, bias=False),   # (B, 96, 31, 31)\n",
    "            nn.BatchNorm2d(96),\n",
    "            nn.ReLU(inplace=True),\n",
    "\n",
    "            nn.Conv2d(96, 96, kernel_size=3, padding=1, bias=False),   # Added another conv (B, 96, 31, 31)\n",
    "            nn.BatchNorm2d(96),\n",
    "            nn.ReLU(inplace=True),\n",
    "\n",
    "            nn.MaxPool2d(kernel_size=2, stride=1),  # (B, 96, 30, 30)\n",
    "\n",
    "            nn.Conv2d(96, 128, kernel_size=3, padding=1, bias=False),  # (B, 128, 30, 30)\n",
    "            nn.BatchNorm2d(128),\n",
    "            nn.ReLU(inplace=True),\n",
    "\n",
    "            SpatialAttention(),\n",
    "\n",
    "            nn.AdaptiveAvgPool2d((1, 1))  # (B, 128, 1, 1)\n",
    "        )\n",
    "\n",
    "        self.classifier = nn.Sequential(\n",
    "            nn.Flatten(),  # (B, 128)\n",
    "            nn.Linear(128, 64, bias=False),\n",
    "            nn.BatchNorm1d(64),\n",
    "            nn.ReLU(inplace=True),\n",
    "\n",
    "            nn.Linear(64, 32, bias=False),\n",
    "            nn.BatchNorm1d(32),\n",
    "            nn.ReLU(inplace=True),\n",
    "\n",
    "            nn.Linear(32, 1)  # Output: (B, 1)\n",
    "        )\n",
    "\n",
    "    def forward(self, x):\n",
    "        x = self.features(x)  # (B, 32, 8, 32, 32)\n",
    "        x = torch.max(x, dim=2).values  # Collapse depth → (B, 32, 32, 32)\n",
    "        x = self.conv2d_path(x)  # (B, 128, 1, 1)\n",
    "        x = self.classifier(x)  # (B, 1)\n",
    "        return x\n",
    "\n"
   ]
  },
  {
   "cell_type": "code",
   "execution_count": 13,
   "metadata": {},
   "outputs": [
    {
     "name": "stdout",
     "output_type": "stream",
     "text": [
      "Total trainable parameters: 315847\n"
     ]
    }
   ],
   "source": [
    "model = InkDetector().to('cuda')  # Instantiate your model (replace InkDetector with your class)\n",
    "total_params = sum(p.numel() for p in model.parameters() if p.requires_grad)\n",
    "print(f\"Total trainable parameters: {total_params}\")\n"
   ]
  },
  {
   "cell_type": "code",
   "execution_count": null,
   "metadata": {},
   "outputs": [],
   "source": [
    "# 8 9 10 -> 28 -> 44"
   ]
  }
 ],
 "metadata": {
  "kernelspec": {
   "display_name": "Python 3",
   "language": "python",
   "name": "python3"
  },
  "language_info": {
   "codemirror_mode": {
    "name": "ipython",
    "version": 3
   },
   "file_extension": ".py",
   "mimetype": "text/x-python",
   "name": "python",
   "nbconvert_exporter": "python",
   "pygments_lexer": "ipython3",
   "version": "3.10.12"
  }
 },
 "nbformat": 4,
 "nbformat_minor": 2
}
